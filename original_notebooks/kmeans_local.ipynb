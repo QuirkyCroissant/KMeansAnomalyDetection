{
 "cells": [
  {
   "cell_type": "code",
   "id": "639b875b35bf57f4",
   "metadata": {
    "ExecuteTime": {
     "end_time": "2024-05-20T10:20:08.600893Z",
     "start_time": "2024-05-20T10:20:07.332516Z"
    }
   },
   "source": [
    "import numpy as np\n",
    "from pyspark.ml.feature import VectorAssembler, StandardScaler, OneHotEncoder, StringIndexer\n",
    "from pyspark.sql import SparkSession\n",
    "from pyspark.ml.clustering import KMeans\n",
    "import time\n",
    "import matplotlib.pyplot as plt\n",
    "from pyspark.ml import Pipeline\n",
    "from tqdm import tqdm"
   ],
   "execution_count": 1,
   "outputs": []
  },
  {
   "cell_type": "markdown",
   "id": "e1cd4639-a155-4372-9e29-db69f18380a9",
   "metadata": {},
   "source": [
    "## Initialization and Setup-Steps"
   ]
  },
  {
   "cell_type": "code",
   "id": "initial_id",
   "metadata": {
    "ExecuteTime": {
     "end_time": "2024-05-20T10:20:23.885968Z",
     "start_time": "2024-05-20T10:20:08.601894Z"
    }
   },
   "source": [
    "# Initialize Spark Session\n",
    "spark = SparkSession.builder.appName(\"KMeansSession\").getOrCreate()\n",
    "\n",
    "data_path = \"kddcup.data\"\n",
    "raw_data = spark.read.csv(data_path, header=False, inferSchema=True)\n",
    "raw_data_mini = spark.read.csv(data_path+\"_10_percent\", header=False, inferSchema=True)"
   ],
   "execution_count": 2,
   "outputs": []
  },
  {
   "cell_type": "code",
   "id": "4e553b1b-4f5a-4a64-806b-40523c9ddbd8",
   "metadata": {
    "ExecuteTime": {
     "end_time": "2024-05-20T10:20:23.890332Z",
     "start_time": "2024-05-20T10:20:23.886967Z"
    }
   },
   "source": [
    "#we assemble a KMeans-capable dataframe from a \"finished\" dataframe we already assembled\n",
    "def assemble_vector(dataframe, columns):\n",
    "    vec_assembler = VectorAssembler(inputCols=columns, outputCol=\"features\")\n",
    "    return vec_assembler.transform(dataframe)"
   ],
   "execution_count": 3,
   "outputs": []
  },
  {
   "cell_type": "code",
   "id": "d2028966-1024-4ea1-b98e-c295eb3b594c",
   "metadata": {
    "ExecuteTime": {
     "end_time": "2024-05-20T10:20:23.896325Z",
     "start_time": "2024-05-20T10:20:23.891325Z"
    }
   },
   "source": [
    "#for the first two tasks, we need to drop all non-numeric columns, as kMeans cannot deal with them \n",
    "def is_numeric_column(column):\n",
    "    return column[1] != \"string\""
   ],
   "execution_count": 4,
   "outputs": []
  },
  {
   "cell_type": "code",
   "id": "bfcb2b2a-d885-4568-802a-4e089b8b88bf",
   "metadata": {
    "ExecuteTime": {
     "end_time": "2024-05-20T10:20:23.916847Z",
     "start_time": "2024-05-20T10:20:23.898325Z"
    }
   },
   "source": [
    "numeric_columns = []\n",
    "non_numeric_columns = []\n",
    "\n",
    "for column in raw_data.dtypes:\n",
    "    if is_numeric_column(column):\n",
    "        numeric_columns.append(column[0])\n",
    "    else:\n",
    "        non_numeric_columns.append(column[0])\n",
    "\n",
    "print(numeric_columns)\n",
    "\n",
    "#dataset we use in Tasks 1 and 2\n",
    "#numeric_data = raw_data.drop(*non_numeric_columns)"
   ],
   "execution_count": 5,
   "outputs": []
  },
  {
   "metadata": {
    "ExecuteTime": {
     "end_time": "2024-05-20T10:20:24.664735Z",
     "start_time": "2024-05-20T10:20:24.607735Z"
    }
   },
   "cell_type": "code",
   "source": [
    "label_cnt_mini = raw_data_mini.groupBy('_c41') \\\n",
    "    .count() \\\n",
    "    .sort('count', ascending=False)\n",
    "\n",
    "label_cnt_big = raw_data.groupBy('_c41') \\\n",
    "    .count() \\\n",
    "    .sort('count', ascending=False)\n"
   ],
   "id": "8acc5d375ca91048",
   "execution_count": 7,
   "outputs": []
  },
  {
   "metadata": {
    "ExecuteTime": {
     "end_time": "2024-05-20T10:20:25.343565Z",
     "start_time": "2024-05-20T10:20:24.665734Z"
    }
   },
   "cell_type": "code",
   "source": "label_cnt_mini.show()",
   "id": "635fc2dd48b245e9",
   "execution_count": 8,
   "outputs": []
  },
  {
   "metadata": {
    "ExecuteTime": {
     "end_time": "2024-05-20T10:20:26.616483Z",
     "start_time": "2024-05-20T10:20:25.344563Z"
    }
   },
   "cell_type": "code",
   "source": "label_cnt_big.show()",
   "id": "8fa6c14541dd6164",
   "execution_count": 9,
   "outputs": []
  },
  {
   "metadata": {
    "ExecuteTime": {
     "end_time": "2024-05-20T10:20:26.620169Z",
     "start_time": "2024-05-20T10:20:26.617480Z"
    }
   },
   "cell_type": "code",
   "source": "raw_data = raw_data_mini",
   "id": "3792428ad0fd599f",
   "execution_count": 10,
   "outputs": []
  },
  {
   "cell_type": "markdown",
   "id": "ef4c9949-6485-451c-a0cc-6361f088240d",
   "metadata": {},
   "source": [
    "## Task 1: Inaccurate Labels"
   ]
  },
  {
   "cell_type": "code",
   "id": "5689a763-7042-49bb-91af-1560ae2b9c0b",
   "metadata": {
    "ExecuteTime": {
     "end_time": "2024-05-20T10:20:26.987054Z",
     "start_time": "2024-05-20T10:20:26.637166Z"
    }
   },
   "source": [
    "inaccurate_label_data = assemble_vector(raw_data, numeric_columns)\n",
    "inaccurate_label_data.head(1)"
   ],
   "execution_count": 12,
   "outputs": []
  },
  {
   "cell_type": "code",
   "id": "72d0f0bea68a643d",
   "metadata": {
    "ExecuteTime": {
     "end_time": "2024-05-20T10:20:26.996050Z",
     "start_time": "2024-05-20T10:20:26.990055Z"
    }
   },
   "source": [
    "k_from = 2\n",
    "k_to= 75"
   ],
   "execution_count": 13,
   "outputs": []
  },
  {
   "cell_type": "code",
   "id": "33c3331fb3e182ea",
   "metadata": {
    "ExecuteTime": {
     "end_time": "2024-05-20T10:23:19.143311Z",
     "start_time": "2024-05-20T10:20:26.999046Z"
    }
   },
   "source": [
    "squared_score=[]\n",
    "\n",
    "start_time = time.time()\n",
    "for i in range(k_from,k_to):\n",
    "    kmeans=KMeans(k=i, seed=1)\n",
    "    model=kmeans.fit(inaccurate_label_data)\n",
    "    score = model.summary.trainingCost\n",
    "    squared_score.append(score)\n",
    "    print('Objective Function for k =',i,'is',score)\n",
    "\n",
    "end_time = time.time()\n",
    "duration = end_time - start_time\n",
    "print(f\"Execution: {duration} seconds.\")"
   ],
   "execution_count": 14,
   "outputs": []
  },
  {
   "cell_type": "code",
   "id": "8feb5929aa38a6ec",
   "metadata": {
    "ExecuteTime": {
     "end_time": "2024-05-20T12:07:07.542031Z",
     "start_time": "2024-05-20T12:07:07.453756Z"
    }
   },
   "source": [
    "print(squared_score)\n",
    "plt.plot(range(k_from,k_to),squared_score)\n",
    "plt.xlabel('k')\n",
    "plt.ylabel('Objective Function Score')\n",
    "plt.title('Numerical Columns Score')\n",
    "plt.show()"
   ],
   "execution_count": 41,
   "outputs": []
  },
  {
   "cell_type": "markdown",
   "id": "2e496d1438eb0de8",
   "metadata": {},
   "source": [
    "## Task 2: Feature Normalization\n"
   ]
  },
  {
   "cell_type": "code",
   "id": "744bf154a96ead4e",
   "metadata": {
    "ExecuteTime": {
     "end_time": "2024-05-20T10:23:19.456923Z",
     "start_time": "2024-05-20T10:23:19.453378Z"
    }
   },
   "source": [
    "def scale_dataframe(input_dataframe, start_columns):\n",
    "    \n",
    "    assembled_col = [col+\"_vec\" for col in start_columns]\n",
    "    scaled_col = [col+\"_scaled\" for col in assembled_col]\n",
    "    assemblers = [VectorAssembler(inputCols=[col], outputCol=col + \"_vec\") for col in start_columns]\n",
    "    scalers = [StandardScaler(inputCol=col, outputCol=col + \"_scaled\") for col in assembled_col]\n",
    "    pipeline = Pipeline(stages=assemblers + scalers)\n",
    "    scalerModel = pipeline.fit(input_dataframe)\n",
    "    scaledData = scalerModel.transform(input_dataframe)\n",
    "    \n",
    "    scaledData = scaledData.drop(*start_columns, *assembled_col)\n",
    "\n",
    "    return scaledData, scaled_col"
   ],
   "execution_count": 16,
   "outputs": []
  },
  {
   "cell_type": "code",
   "id": "b5ac9a931ab3e2c",
   "metadata": {
    "ExecuteTime": {
     "end_time": "2024-05-20T10:23:33.039828Z",
     "start_time": "2024-05-20T10:23:19.457923Z"
    }
   },
   "source": [
    "#final_data.show()\n",
    "scaled_data, scaled_col = scale_dataframe(raw_data, numeric_columns)\n",
    "scaled_data = assemble_vector(scaled_data, scaled_col)\n",
    "scaled_data.show()"
   ],
   "execution_count": 17,
   "outputs": []
  },
  {
   "cell_type": "code",
   "id": "a2fa093708a01271",
   "metadata": {
    "ExecuteTime": {
     "end_time": "2024-05-20T10:23:33.043698Z",
     "start_time": "2024-05-20T10:23:33.040826Z"
    }
   },
   "source": [
    "#kfrom2 = 20\n",
    "#kto2 = 80\n",
    "k_from_task_2 = 2\n",
    "k_to_task_2 = 75"
   ],
   "execution_count": 18,
   "outputs": []
  },
  {
   "cell_type": "code",
   "id": "9ad2894c-202c-48ef-a9db-bd47f1d6ee65",
   "metadata": {
    "ExecuteTime": {
     "end_time": "2024-05-20T10:48:13.358064Z",
     "start_time": "2024-05-20T10:23:33.044656Z"
    }
   },
   "source": [
    "squared_score_task_2 = []\n",
    "\n",
    "start_time = time.time()\n",
    "for i in range(k_from_task_2, k_to_task_2):\n",
    "    kmeans = KMeans(k=i, seed=1)\n",
    "    model = kmeans.fit(scaled_data)\n",
    "    score = model.summary.trainingCost\n",
    "    squared_score_task_2.append(score)\n",
    "    print('Objective Function for k =',i,'is',score)\n",
    "\n",
    "end_time = time.time()\n",
    "duration = end_time - start_time\n",
    "print(f\"Execution: {duration} seconds.\")"
   ],
   "execution_count": 19,
   "outputs": []
  },
  {
   "cell_type": "code",
   "id": "76de41d21e91de2c",
   "metadata": {
    "ExecuteTime": {
     "end_time": "2024-05-20T12:08:12.136779Z",
     "start_time": "2024-05-20T12:08:12.037776Z"
    }
   },
   "source": [
    "print(squared_score_task_2)\n",
    "plt.plot(range(k_from_task_2,k_to_task_2),squared_score_task_2)\n",
    "plt.xlabel('k')\n",
    "plt.ylabel('Objective Function Score')\n",
    "plt.title('Normalized Numerical Columns Score')\n",
    "plt.show()"
   ],
   "execution_count": 42,
   "outputs": []
  },
  {
   "cell_type": "markdown",
   "id": "775fe32bb3d732db",
   "metadata": {},
   "source": [
    "## Task 3: Categorical Variables"
   ]
  },
  {
   "metadata": {
    "ExecuteTime": {
     "end_time": "2024-05-20T10:48:13.599922Z",
     "start_time": "2024-05-20T10:48:13.595265Z"
    }
   },
   "cell_type": "code",
   "source": [
    "def one_code_encode(dataframe, column):\n",
    "    indexers = [StringIndexer(inputCol=column, outputCol=column+\"_indexed\")]\n",
    "    encoders = [OneHotEncoder(dropLast=False,inputCol=indexer.getOutputCol(), outputCol= column+'_encoded') for indexer in indexers]\n",
    "    assembler = VectorAssembler(inputCols=[encoder.getOutputCol() for encoder in encoders], outputCol=column+\"_protocol\")\n",
    "    \n",
    "    pipeline = Pipeline(stages=indexers + encoders+[assembler])\n",
    "    model = pipeline.fit(dataframe)\n",
    "    transformed = model.transform(dataframe)\n",
    "    return transformed.drop(column+'_indexed', column+'_encoded'), column+\"_protocol\""
   ],
   "id": "9ed16869856d16aa",
   "execution_count": 21,
   "outputs": []
  },
  {
   "metadata": {
    "ExecuteTime": {
     "end_time": "2024-05-20T10:48:14.229173Z",
     "start_time": "2024-05-20T10:48:13.600920Z"
    }
   },
   "cell_type": "code",
   "source": [
    "#the protocols are found in column _c1, therefore we one-hot encode this column\n",
    "transformed, column = one_code_encode(raw_data, column='_c1')\n"
   ],
   "id": "abd40ed16dbcfc65",
   "execution_count": 22,
   "outputs": []
  },
  {
   "cell_type": "code",
   "id": "1d3e5dd15e99839d",
   "metadata": {
    "ExecuteTime": {
     "end_time": "2024-05-20T10:48:14.234691Z",
     "start_time": "2024-05-20T10:48:14.230171Z"
    }
   },
   "source": [
    "#transformed.show()\n",
    "#for col in non_numeric_columns:\n",
    "#    transformed = transformed.drop(col)\n",
    "    \n",
    "#transformed.show()\n",
    "columns = numeric_columns.copy()\n",
    "columns.append(column)\n",
    "print(columns)\n",
    "#raw_data.head()"
   ],
   "execution_count": 23,
   "outputs": []
  },
  {
   "cell_type": "code",
   "id": "1cb33c5a3465f9fe",
   "metadata": {
    "ExecuteTime": {
     "end_time": "2024-05-20T10:48:30.268628Z",
     "start_time": "2024-05-20T10:48:14.235690Z"
    }
   },
   "source": [
    "transformed, columns = scale_dataframe(transformed, columns)\n",
    "transformed = assemble_vector(transformed, columns)\n",
    "transformed.show()"
   ],
   "execution_count": 24,
   "outputs": []
  },
  {
   "cell_type": "code",
   "id": "a135f5f0-5ce7-48c9-bf24-380abd50297e",
   "metadata": {
    "ExecuteTime": {
     "end_time": "2024-05-20T10:48:30.272067Z",
     "start_time": "2024-05-20T10:48:30.269626Z"
    }
   },
   "source": [
    "k_from_task_3 = 2\n",
    "k_to_task_3 = 75"
   ],
   "execution_count": 25,
   "outputs": []
  },
  {
   "cell_type": "code",
   "id": "e23412ebfa861a6e",
   "metadata": {
    "ExecuteTime": {
     "end_time": "2024-05-20T11:15:32.670157Z",
     "start_time": "2024-05-20T10:48:30.273067Z"
    }
   },
   "source": [
    "squared_score_task_3 = []\n",
    "\n",
    "start_time = time.time()\n",
    "for i in range(k_from_task_3, k_to_task_3):\n",
    "    kmeans = KMeans(k=i, seed=1)\n",
    "    model = kmeans.fit(transformed)\n",
    "    score = model.summary.trainingCost\n",
    "    squared_score_task_3.append(score)\n",
    "    print('Objective Function for k =',i,'is',score)\n",
    "\n",
    "end_time = time.time()\n",
    "duration = end_time - start_time\n",
    "print(f\"Execution: {duration} seconds.\")"
   ],
   "execution_count": 26,
   "outputs": []
  },
  {
   "cell_type": "code",
   "id": "fc5dfb7b-3e92-42fd-8155-7609d0367414",
   "metadata": {
    "ExecuteTime": {
     "end_time": "2024-05-20T12:10:57.318156Z",
     "start_time": "2024-05-20T12:10:57.220157Z"
    }
   },
   "source": [
    "print(squared_score_task_3)\n",
    "plt.plot(range(k_from_task_3,k_to_task_3),squared_score_task_3)\n",
    "plt.xlabel('k')\n",
    "plt.ylabel('Objective Function Score')\n",
    "plt.title('Categorical Features Score')\n",
    "plt.show()"
   ],
   "execution_count": 44,
   "outputs": []
  },
  {
   "metadata": {},
   "cell_type": "markdown",
   "source": "## Entropy-Based quality measure",
   "id": "ae8d0238e4e6c439"
  },
  {
   "metadata": {
    "ExecuteTime": {
     "end_time": "2024-05-20T11:15:48.252726Z",
     "start_time": "2024-05-20T11:15:32.841134Z"
    }
   },
   "cell_type": "code",
   "source": [
    "feature_cols = numeric_columns.copy()\n",
    "modified_data, col = one_code_encode(raw_data, column='_c1')\n",
    "feature_cols += [col]\n",
    "#modified_data, col = one_code_encode(modified_data, column='_c2')\n",
    "#feature_cols += [col]\n",
    "#modified_data, col = one_code_encode(modified_data, column='_c3')\n",
    "#feature_cols += [col]\n",
    "modified_scaled_data, scaled_col = scale_dataframe(modified_data, feature_cols)\n",
    "transformed_modified = assemble_vector(modified_scaled_data, scaled_col)\n",
    "transformed_modified.show()"
   ],
   "id": "1ac34e7776f71a44",
   "execution_count": 28,
   "outputs": []
  },
  {
   "metadata": {
    "ExecuteTime": {
     "end_time": "2024-05-20T11:41:09.430013Z",
     "start_time": "2024-05-20T11:15:48.253724Z"
    }
   },
   "cell_type": "code",
   "source": [
    "k_from_task_4 = 45\n",
    "k_to_task_4 = 70\n",
    "squared_score_task_4 = []\n",
    "predictions = []\n",
    "\n",
    "start_time = time.time()\n",
    "for i in tqdm(range(k_from_task_4, k_to_task_4)):\n",
    "    kmeans = KMeans(k=i, seed=1)\n",
    "    model = kmeans.fit(transformed_modified)\n",
    "    predictions.append(model.transform(transformed_modified))\n",
    "    score = model.summary.trainingCost\n",
    "    squared_score_task_4.append(score)\n",
    "\n",
    "end_time = time.time()\n",
    "duration = end_time - start_time\n",
    "print(f\"Execution: {duration} seconds.\")"
   ],
   "id": "7d357fa7d76769b0",
   "execution_count": 29,
   "outputs": []
  },
  {
   "metadata": {
    "ExecuteTime": {
     "end_time": "2024-05-20T11:41:09.434813Z",
     "start_time": "2024-05-20T11:41:09.431013Z"
    }
   },
   "cell_type": "code",
   "source": [
    "def entropy_score(dataframe):\n",
    "    \n",
    "    x = dataframe \\\n",
    "        .groupBy('prediction') \\\n",
    "        .count() \\\n",
    "        .sort('prediction') \\\n",
    "        .toPandas()\n",
    "    \n",
    "    gamma = dataframe \\\n",
    "        .groupBy('prediction', '_c41') \\\n",
    "        .count() \\\n",
    "        .sort('prediction') \\\n",
    "        .toDF('prediction', 'label', 'count').toPandas()\n",
    "    \n",
    "    total_entropy = 0\n",
    "    for _, rows in x.iterrows():\n",
    "        cluster_id = rows['prediction']\n",
    "        amount_objects = rows['count']\n",
    "        cluster_label_counts = gamma.loc[gamma['prediction'] == cluster_id].values[:, 2].astype(np.float64)\n",
    "        a = np.divide(cluster_label_counts, amount_objects)\n",
    "        cluster_sum = np.sum(np.multiply(a, np.log2(a)))\n",
    "        total_entropy -= cluster_sum * amount_objects / raw_data.count()\n",
    "    \n",
    "    return total_entropy"
   ],
   "id": "fad2ee05b0325114",
   "execution_count": 30,
   "outputs": []
  },
  {
   "metadata": {
    "ExecuteTime": {
     "end_time": "2024-05-20T11:41:09.441530Z",
     "start_time": "2024-05-20T11:41:09.434813Z"
    }
   },
   "cell_type": "code",
   "source": "#total_entropy",
   "id": "72bd426dc972a8f0",
   "execution_count": 31,
   "outputs": []
  },
  {
   "metadata": {
    "ExecuteTime": {
     "end_time": "2024-05-20T11:59:54.539849Z",
     "start_time": "2024-05-20T11:41:09.442527Z"
    }
   },
   "cell_type": "code",
   "source": "entropy_list = [entropy_score(i) for i in tqdm(predictions)]",
   "id": "fa7d24422d79df91",
   "execution_count": 32,
   "outputs": []
  },
  {
   "metadata": {
    "ExecuteTime": {
     "end_time": "2024-05-20T12:14:30.847300Z",
     "start_time": "2024-05-20T12:14:30.743299Z"
    }
   },
   "cell_type": "code",
   "source": [
    "print(entropy_list)\n",
    "plt.plot(range(2,70), entropy_list)\n",
    "plt.xlabel('k')\n",
    "plt.ylabel('Entropy Score')\n",
    "plt.title('Categorical and Normalized Entropy Plot')\n",
    "plt.show()"
   ],
   "id": "30859245f6357bf3",
   "execution_count": 46,
   "outputs": []
  }
 ],
 "metadata": {
  "kernelspec": {
   "display_name": "Python 3 (ipykernel)",
   "language": "python",
   "name": "python3"
  },
  "language_info": {
   "codemirror_mode": {
    "name": "ipython",
    "version": 3
   },
   "file_extension": ".py",
   "mimetype": "text/x-python",
   "name": "python",
   "nbconvert_exporter": "python",
   "pygments_lexer": "ipython3",
   "version": "3.9.13"
  }
 },
 "nbformat": 4,
 "nbformat_minor": 5
}
