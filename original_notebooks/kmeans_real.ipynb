{
 "cells": [
  {
   "cell_type": "code",
   "id": "639b875b35bf57f4",
   "metadata": {
    "jupyter": {
     "is_executing": true
    }
   },
   "source": [
    "import numpy as np\n",
    "from pandas import DataFrame\n",
    "from pyspark.ml.feature import VectorAssembler, StandardScaler, OneHotEncoder, StringIndexer\n",
    "from pyspark.sql import SparkSession\n",
    "from pyspark.ml.linalg import Vectors\n",
    "from pyspark.ml.clustering import KMeans\n",
    "from pyspark.ml.evaluation import ClusteringEvaluator\n",
    "import time\n",
    "import matplotlib.pyplot as plt\n",
    "from pyspark.ml import Pipeline\n",
    "from tqdm import tqdm\n",
    "from pyspark.sql.functions import lit"
   ],
   "outputs": [],
   "execution_count": null
  },
  {
   "cell_type": "markdown",
   "id": "e1cd4639-a155-4372-9e29-db69f18380a9",
   "metadata": {},
   "source": [
    "## Initialization and Setup-Steps"
   ]
  },
  {
   "cell_type": "code",
   "id": "initial_id",
   "metadata": {
    "ExecuteTime": {
     "end_time": "2024-11-09T18:58:37.168928Z",
     "start_time": "2024-11-09T18:58:37.144929Z"
    }
   },
   "source": [
    "# Initialize Spark Session\n",
    "spark = SparkSession.builder.appName(\"KMeansExample\").getOrCreate()\n",
    "\n",
    "# Load data\n",
    "data_path = \"../data/kddcup.data_10_percent\"\n",
    "raw_data = spark.read.csv(data_path, header=False, inferSchema=True)\n",
    "\n",
    "#print(raw_data.summary())"
   ],
   "outputs": [
    {
     "ename": "NameError",
     "evalue": "name 'SparkSession' is not defined",
     "output_type": "error",
     "traceback": [
      "\u001B[1;31m---------------------------------------------------------------------------\u001B[0m",
      "\u001B[1;31mNameError\u001B[0m                                 Traceback (most recent call last)",
      "Cell \u001B[1;32mIn[12], line 2\u001B[0m\n\u001B[0;32m      1\u001B[0m \u001B[38;5;66;03m# Initialize Spark Session\u001B[39;00m\n\u001B[1;32m----> 2\u001B[0m spark \u001B[38;5;241m=\u001B[39m \u001B[43mSparkSession\u001B[49m\u001B[38;5;241m.\u001B[39mbuilder\u001B[38;5;241m.\u001B[39mappName(\u001B[38;5;124m\"\u001B[39m\u001B[38;5;124mKMeansExample\u001B[39m\u001B[38;5;124m\"\u001B[39m)\u001B[38;5;241m.\u001B[39mgetOrCreate()\n\u001B[0;32m      4\u001B[0m \u001B[38;5;66;03m# Load data\u001B[39;00m\n\u001B[0;32m      5\u001B[0m data_path \u001B[38;5;241m=\u001B[39m \u001B[38;5;124m\"\u001B[39m\u001B[38;5;124m./data/kddcup.data_10_percent\u001B[39m\u001B[38;5;124m\"\u001B[39m\n",
      "\u001B[1;31mNameError\u001B[0m: name 'SparkSession' is not defined"
     ]
    }
   ],
   "execution_count": 12
  },
  {
   "cell_type": "code",
   "id": "4e553b1b-4f5a-4a64-806b-40523c9ddbd8",
   "metadata": {
    "ExecuteTime": {
     "end_time": "2024-11-09T18:57:18.834298Z",
     "start_time": "2024-11-09T18:57:18.820059Z"
    }
   },
   "source": [
    "#we assemble a KMeans-capable dataframe from a \"finished\" dataframe we already assembled\n",
    "def assemble_vector(dataframe, columns):\n",
    "    #vec_assembler = VectorAssembler(inputCols=dataframe.columns, outputCol=\"features\")\n",
    "    vec_assembler = VectorAssembler(inputCols=columns, outputCol=\"features\")\n",
    "    return vec_assembler.transform(dataframe)"
   ],
   "outputs": [],
   "execution_count": 5
  },
  {
   "cell_type": "code",
   "id": "d2028966-1024-4ea1-b98e-c295eb3b594c",
   "metadata": {
    "ExecuteTime": {
     "end_time": "2024-11-09T18:57:20.810601Z",
     "start_time": "2024-11-09T18:57:20.795577Z"
    }
   },
   "source": [
    "#for the first two tasks, we need to drop all non-numeric columns, as kMeans cannot deal with them \n",
    "def is_numeric_column(column):\n",
    "    return column[1] != \"string\""
   ],
   "outputs": [],
   "execution_count": 6
  },
  {
   "cell_type": "code",
   "id": "bfcb2b2a-d885-4568-802a-4e089b8b88bf",
   "metadata": {
    "ExecuteTime": {
     "end_time": "2024-11-09T18:54:42.119716500Z",
     "start_time": "2024-05-17T15:56:20.700610Z"
    }
   },
   "source": [
    "numeric_columns = []\n",
    "non_numeric_columns = []\n",
    "\n",
    "for column in raw_data.dtypes:\n",
    "    if is_numeric_column(column):\n",
    "        numeric_columns.append(column[0])\n",
    "    else:\n",
    "        non_numeric_columns.append(column[0])\n",
    "\n",
    "print(numeric_columns)\n",
    "\n",
    "#dataset we use in Tasks 1 and 2\n",
    "#numeric_data = raw_data.drop(*non_numeric_columns)"
   ],
   "execution_count": 21,
   "outputs": []
  },
  {
   "cell_type": "code",
   "id": "0744d9d0-df9a-46b8-a92d-4f1e3aad6fde",
   "metadata": {
    "ExecuteTime": {
     "end_time": "2024-11-09T18:54:42.119716500Z",
     "start_time": "2024-05-17T15:56:20.709611Z"
    }
   },
   "source": [
    "#we use this evaluator for all KMeans models\n",
    "evaluator = ClusteringEvaluator(predictionCol='prediction',\n",
    "                                featuresCol='features',\n",
    "                                metricName='silhouette',\n",
    "                                distanceMeasure='squaredEuclidean') "
   ],
   "execution_count": 22,
   "outputs": []
  },
  {
   "cell_type": "markdown",
   "id": "ef4c9949-6485-451c-a0cc-6361f088240d",
   "metadata": {},
   "source": [
    "## Task 1: Inaccurate Labels"
   ]
  },
  {
   "cell_type": "code",
   "id": "5689a763-7042-49bb-91af-1560ae2b9c0b",
   "metadata": {
    "ExecuteTime": {
     "end_time": "2024-11-09T18:54:42.119716500Z",
     "start_time": "2024-05-17T15:56:20.718611Z"
    }
   },
   "source": [
    "inaccurate_label_data = assemble_vector(raw_data, numeric_columns)\n",
    "inaccurate_label_data.head(1)"
   ],
   "execution_count": 23,
   "outputs": []
  },
  {
   "cell_type": "code",
   "id": "72d0f0bea68a643d",
   "metadata": {
    "ExecuteTime": {
     "end_time": "2024-11-09T18:54:42.119716500Z",
     "start_time": "2024-05-17T15:56:20.901335Z"
    }
   },
   "source": [
    "k_from = 2\n",
    "k_to= 3"
   ],
   "execution_count": 24,
   "outputs": []
  },
  {
   "cell_type": "code",
   "id": "33c3331fb3e182ea",
   "metadata": {
    "ExecuteTime": {
     "end_time": "2024-05-17T15:56:24.181243Z",
     "start_time": "2024-05-17T15:56:20.906335Z"
    }
   },
   "source": [
    "squared_score=[]\n",
    "\n",
    "start_time = time.time()\n",
    "for i in range(k_from,k_to):\n",
    "    kmeans=KMeans(k=i, seed=1)\n",
    "    model=kmeans.fit(inaccurate_label_data)\n",
    "    #predictions=model.transform(inaccurate_label_data)\n",
    "    #score=evaluator.evaluate(predictions)\n",
    "    score = model.summary.trainingCost\n",
    "    squared_score.append(score)\n",
    "    print('Objective Function for k =',i,'is',score)\n",
    "\n",
    "end_time = time.time()\n",
    "duration = end_time - start_time\n",
    "print(f\"Execution: {duration} seconds.\")"
   ],
   "execution_count": 25,
   "outputs": []
  },
  {
   "cell_type": "code",
   "id": "8feb5929aa38a6ec",
   "metadata": {
    "ExecuteTime": {
     "end_time": "2024-05-17T15:56:24.353753Z",
     "start_time": "2024-05-17T15:56:24.182238Z"
    }
   },
   "source": [
    "print(squared_score)\n",
    "plt.plot(range(k_from,k_to),squared_score)\n",
    "plt.xlabel('k')\n",
    "plt.ylabel('Objective Function Score')\n",
    "plt.title('Objective Function Score')\n",
    "plt.yscale('log')\n",
    "plt.show()"
   ],
   "execution_count": 26,
   "outputs": []
  },
  {
   "cell_type": "markdown",
   "id": "2e496d1438eb0de8",
   "metadata": {},
   "source": [
    "## Task 2: Feature Normalization\n"
   ]
  },
  {
   "cell_type": "code",
   "id": "744bf154a96ead4e",
   "metadata": {
    "ExecuteTime": {
     "end_time": "2024-05-17T15:56:24.358230Z",
     "start_time": "2024-05-17T15:56:24.354752Z"
    }
   },
   "source": [
    "def scale_dataframe(input_dataframe, start_columns):\n",
    "    \n",
    "    #start_columns = input_dataframe.columns\n",
    "    assembled_col = [col+\"_vec\" for col in start_columns]\n",
    "    scaled_col = [col+\"_scaled\" for col in assembled_col]\n",
    "    assemblers = [VectorAssembler(inputCols=[col], outputCol=col + \"_vec\") for col in start_columns]\n",
    "    scalers = [StandardScaler(inputCol=col, outputCol=col + \"_scaled\") for col in assembled_col]\n",
    "    pipeline = Pipeline(stages=assemblers + scalers)\n",
    "    scalerModel = pipeline.fit(input_dataframe)\n",
    "    scaledData = scalerModel.transform(input_dataframe)\n",
    "    \n",
    "    scaledData = scaledData.drop(*start_columns, *assembled_col)\n",
    "\n",
    "    return scaledData, scaled_col"
   ],
   "execution_count": 27,
   "outputs": []
  },
  {
   "cell_type": "code",
   "id": "b5ac9a931ab3e2c",
   "metadata": {
    "ExecuteTime": {
     "end_time": "2024-05-17T15:56:37.425257Z",
     "start_time": "2024-05-17T15:56:24.359227Z"
    }
   },
   "source": [
    "#final_data.show()\n",
    "scaled_data, scaled_col = scale_dataframe(raw_data, numeric_columns)\n",
    "scaled_data = assemble_vector(scaled_data, scaled_col)\n",
    "scaled_data.show()"
   ],
   "execution_count": 28,
   "outputs": []
  },
  {
   "cell_type": "code",
   "id": "a2fa093708a01271",
   "metadata": {
    "ExecuteTime": {
     "end_time": "2024-05-17T15:56:37.429568Z",
     "start_time": "2024-05-17T15:56:37.426256Z"
    }
   },
   "source": [
    "#kfrom2 = 20\n",
    "#kto2 = 80\n",
    "k_from_task_2 = 2\n",
    "k_to_task_2 = 3"
   ],
   "execution_count": 29,
   "outputs": []
  },
  {
   "cell_type": "code",
   "id": "9ad2894c-202c-48ef-a9db-bd47f1d6ee65",
   "metadata": {
    "ExecuteTime": {
     "end_time": "2024-05-17T15:57:00.744987Z",
     "start_time": "2024-05-17T15:56:37.430515Z"
    }
   },
   "source": [
    "squared_score_task_2 = []\n",
    "\n",
    "start_time = time.time()\n",
    "for i in range(k_from_task_2, k_to_task_2):\n",
    "    kmeans = KMeans(k=i, seed=1)\n",
    "    model = kmeans.fit(scaled_data)\n",
    "    #predictions = model.transform(scaled_data)\n",
    "    #score=evaluator.evaluate(predictions)\n",
    "    score = model.summary.trainingCost\n",
    "    squared_score_task_2.append(score)\n",
    "    print('Objective Function for k =',i,'is',score)\n",
    "\n",
    "end_time = time.time()\n",
    "duration = end_time - start_time\n",
    "print(f\"Execution: {duration} seconds.\")"
   ],
   "execution_count": 30,
   "outputs": []
  },
  {
   "cell_type": "code",
   "id": "76de41d21e91de2c",
   "metadata": {
    "ExecuteTime": {
     "end_time": "2024-05-17T15:57:00.878890Z",
     "start_time": "2024-05-17T15:57:00.747985Z"
    }
   },
   "source": [
    "print(squared_score_task_2)\n",
    "plt.plot(range(k_from_task_2,k_to_task_2),squared_score_task_2)\n",
    "plt.xlabel('k')\n",
    "plt.ylabel('Objective Function Score')\n",
    "plt.title('Objective Function Score')\n",
    "plt.show()"
   ],
   "execution_count": 31,
   "outputs": []
  },
  {
   "cell_type": "markdown",
   "id": "775fe32bb3d732db",
   "metadata": {},
   "source": [
    "## Task 3: Categorical Variables"
   ]
  },
  {
   "metadata": {
    "ExecuteTime": {
     "end_time": "2024-05-17T16:00:16.376813Z",
     "start_time": "2024-05-17T16:00:16.372591Z"
    }
   },
   "cell_type": "code",
   "source": [
    "def one_code_encode(dataframe, column):\n",
    "    indexers = [StringIndexer(inputCol=column, outputCol=column+\"_indexed\")]\n",
    "    encoders = [OneHotEncoder(dropLast=False,inputCol=indexer.getOutputCol(), outputCol= column+'_encoded') for indexer in indexers]\n",
    "    assembler = VectorAssembler(inputCols=[encoder.getOutputCol() for encoder in encoders], outputCol=column+\"_protocol\")\n",
    "    \n",
    "    pipeline = Pipeline(stages=indexers + encoders+[assembler])\n",
    "    model = pipeline.fit(dataframe)\n",
    "    transformed = model.transform(dataframe)\n",
    "    return transformed.drop(column+'_indexed', column+'_encoded'), column+\"_protocol\""
   ],
   "id": "9ed16869856d16aa",
   "execution_count": 48,
   "outputs": []
  },
  {
   "metadata": {
    "ExecuteTime": {
     "end_time": "2024-05-17T16:04:02.850713Z",
     "start_time": "2024-05-17T16:04:02.604669Z"
    }
   },
   "cell_type": "code",
   "source": [
    "#the protocols are found in column _c1, therefore we one-hot encode this column\n",
    "transformed, column = one_code_encode(raw_data, column='_c1')\n"
   ],
   "id": "abd40ed16dbcfc65",
   "execution_count": 61,
   "outputs": []
  },
  {
   "cell_type": "code",
   "id": "1d3e5dd15e99839d",
   "metadata": {
    "ExecuteTime": {
     "end_time": "2024-05-17T16:04:34.472639Z",
     "start_time": "2024-05-17T16:04:34.469198Z"
    }
   },
   "source": [
    "#transformed.show()\n",
    "#for col in non_numeric_columns:\n",
    "#    transformed = transformed.drop(col)\n",
    "    \n",
    "#transformed.show()\n",
    "columns = numeric_columns.copy()\n",
    "columns.append(column)\n",
    "print(columns)\n",
    "#raw_data.head()"
   ],
   "execution_count": 64,
   "outputs": []
  },
  {
   "cell_type": "code",
   "id": "1cb33c5a3465f9fe",
   "metadata": {
    "ExecuteTime": {
     "end_time": "2024-05-17T16:04:52.239258Z",
     "start_time": "2024-05-17T16:04:37.978164Z"
    }
   },
   "source": [
    "transformed, columns = scale_dataframe(transformed, columns)\n",
    "transformed = assemble_vector(transformed, columns)\n",
    "transformed.show()"
   ],
   "execution_count": 65,
   "outputs": []
  },
  {
   "cell_type": "code",
   "id": "a135f5f0-5ce7-48c9-bf24-380abd50297e",
   "metadata": {
    "ExecuteTime": {
     "end_time": "2024-05-17T16:04:57.177892Z",
     "start_time": "2024-05-17T16:04:57.174444Z"
    }
   },
   "source": [
    "k_from_task_3 = 2\n",
    "k_to_task_3 = 3"
   ],
   "execution_count": 66,
   "outputs": []
  },
  {
   "cell_type": "code",
   "id": "e23412ebfa861a6e",
   "metadata": {
    "ExecuteTime": {
     "end_time": "2024-05-17T16:05:25.575790Z",
     "start_time": "2024-05-17T16:04:59.513972Z"
    }
   },
   "source": [
    "squared_score_task_3 = []\n",
    "\n",
    "start_time = time.time()\n",
    "for i in range(k_from_task_3, k_to_task_3):\n",
    "    kmeans = KMeans(k=i, seed=1)\n",
    "    model = kmeans.fit(transformed)\n",
    "    #predictions = model.transform(transformed)\n",
    "    #score=evaluator.evaluate(predictions)\n",
    "    score = model.summary.trainingCost\n",
    "    squared_score_task_3.append(score)\n",
    "    print('Objective Function for k =',i,'is',score)\n",
    "\n",
    "end_time = time.time()\n",
    "duration = end_time - start_time\n",
    "print(f\"Execution: {duration} seconds.\")"
   ],
   "execution_count": 67,
   "outputs": []
  },
  {
   "cell_type": "code",
   "id": "fc5dfb7b-3e92-42fd-8155-7609d0367414",
   "metadata": {
    "ExecuteTime": {
     "end_time": "2024-05-17T16:05:25.703789Z",
     "start_time": "2024-05-17T16:05:25.577790Z"
    }
   },
   "source": [
    "print(squared_score_task_3)\n",
    "plt.plot(range(k_from_task_3,k_to_task_3),squared_score_task_3)\n",
    "plt.xlabel('k')\n",
    "plt.ylabel('Objective Function Score')\n",
    "plt.title('Objective Function Score')\n",
    "plt.show()"
   ],
   "execution_count": 68,
   "outputs": []
  },
  {
   "metadata": {},
   "cell_type": "markdown",
   "source": "## Entropy-Based quality measure",
   "id": "ae8d0238e4e6c439"
  },
  {
   "metadata": {
    "ExecuteTime": {
     "end_time": "2024-05-17T18:22:16.100289Z",
     "start_time": "2024-05-17T18:22:00.735259Z"
    }
   },
   "cell_type": "code",
   "source": [
    "feature_cols = numeric_columns.copy()\n",
    "modified_data, col = one_code_encode(raw_data, column='_c1')\n",
    "feature_cols += [col]\n",
    "#modified_data, col = one_code_encode(modified_data, column='_c2')\n",
    "#feature_cols += [col]\n",
    "#modified_data, col = one_code_encode(modified_data, column='_c3')\n",
    "#feature_cols += [col]\n",
    "modified_scaled_data, scaled_col = scale_dataframe(modified_data, feature_cols)\n",
    "transformed_modified = assemble_vector(modified_scaled_data, scaled_col)\n",
    "transformed_modified.show()"
   ],
   "id": "1ac34e7776f71a44",
   "execution_count": 122,
   "outputs": []
  },
  {
   "metadata": {
    "ExecuteTime": {
     "end_time": "2024-05-17T18:31:53.003029Z",
     "start_time": "2024-05-17T18:22:26.082797Z"
    }
   },
   "cell_type": "code",
   "source": [
    "k_from_task_4 = 45\n",
    "k_to_task_4 = 70\n",
    "squared_score_task_4 = []\n",
    "predictions = []\n",
    "\n",
    "start_time = time.time()\n",
    "for i in tqdm(range(k_from_task_4, k_to_task_4)):\n",
    "    kmeans = KMeans(k=i, seed=1)\n",
    "    model = kmeans.fit(transformed_modified)\n",
    "    predictions.append(model.transform(transformed_modified))\n",
    "    score = model.summary.trainingCost\n",
    "    squared_score_task_4.append(score)\n",
    "    #print('Objective Function for k =', i, 'is', score)\n",
    "\n",
    "end_time = time.time()\n",
    "duration = end_time - start_time\n",
    "print(f\"Execution: {duration} seconds.\")"
   ],
   "id": "7d357fa7d76769b0",
   "execution_count": 123,
   "outputs": []
  },
  {
   "metadata": {
    "ExecuteTime": {
     "end_time": "2024-05-17T18:20:49.868729Z",
     "start_time": "2024-05-17T18:20:49.864216Z"
    }
   },
   "cell_type": "code",
   "source": [
    "def entropy_score(dataframe):\n",
    "    \n",
    "    x = dataframe \\\n",
    "        .groupBy('prediction') \\\n",
    "        .count() \\\n",
    "        .sort('prediction') \\\n",
    "        .toPandas()\n",
    "    \n",
    "    gamma = dataframe \\\n",
    "        .groupBy('prediction', '_c41') \\\n",
    "        .count() \\\n",
    "        .sort('prediction') \\\n",
    "        .toDF('prediction', 'label', 'count').toPandas()\n",
    "    \n",
    "    total_entropy = 0\n",
    "    for _, rows in x.iterrows():\n",
    "        cluster_id = rows['prediction']\n",
    "        amount_objects = rows['count']\n",
    "        cluster_label_counts = gamma.loc[gamma['prediction'] == cluster_id].values[:, 2].astype(np.float64)\n",
    "        a = np.divide(cluster_label_counts, amount_objects)\n",
    "        cluster_sum = np.sum(np.multiply(a, np.log2(a)))\n",
    "        total_entropy -= cluster_sum * amount_objects / raw_data.count()\n",
    "    \n",
    "    #print('entropy calculated')\n",
    "    return total_entropy"
   ],
   "id": "fad2ee05b0325114",
   "execution_count": 120,
   "outputs": []
  },
  {
   "metadata": {
    "ExecuteTime": {
     "end_time": "2024-05-17T16:06:19.532305Z",
     "start_time": "2024-05-17T16:06:19.528273Z"
    }
   },
   "cell_type": "code",
   "source": "#total_entropy",
   "id": "72bd426dc972a8f0",
   "execution_count": 76,
   "outputs": []
  },
  {
   "metadata": {
    "ExecuteTime": {
     "end_time": "2024-05-17T18:41:29.007411Z",
     "start_time": "2024-05-17T18:33:58.058413Z"
    }
   },
   "cell_type": "code",
   "source": "entropy_list = [entropy_score(i) for i in tqdm(predictions)]",
   "id": "fa7d24422d79df91",
   "execution_count": 125,
   "outputs": []
  },
  {
   "metadata": {
    "ExecuteTime": {
     "end_time": "2024-05-17T18:42:15.219212Z",
     "start_time": "2024-05-17T18:42:15.119180Z"
    }
   },
   "cell_type": "code",
   "source": [
    "print(entropy_list)\n",
    "plt.plot(range(45,70), entropy_list)\n",
    "plt.xlabel('k')\n",
    "plt.ylabel('Entropy Score')\n",
    "plt.title('Entropy Score Plot')\n",
    "plt.show()"
   ],
   "id": "30859245f6357bf3",
   "execution_count": 126,
   "outputs": []
  }
 ],
 "metadata": {
  "kernelspec": {
   "display_name": "Python 3 (ipykernel)",
   "language": "python",
   "name": "python3"
  },
  "language_info": {
   "codemirror_mode": {
    "name": "ipython",
    "version": 3
   },
   "file_extension": ".py",
   "mimetype": "text/x-python",
   "name": "python",
   "nbconvert_exporter": "python",
   "pygments_lexer": "ipython3",
   "version": "3.9.13"
  }
 },
 "nbformat": 4,
 "nbformat_minor": 5
}
